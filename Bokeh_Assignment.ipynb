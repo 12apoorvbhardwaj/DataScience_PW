{
 "cells": [
  {
   "cell_type": "code",
   "execution_count": null,
   "id": "7a2751b1-1f2d-4385-831a-6c809b8b4c6f",
   "metadata": {},
   "outputs": [],
   "source": [
    "'''----------------------------------------Question 1 Ans-----------------------------------'''"
   ]
  },
  {
   "cell_type": "code",
   "execution_count": 3,
   "id": "14d21578-9e41-4cca-9db7-f6c76d1e9bb6",
   "metadata": {},
   "outputs": [],
   "source": [
    "from bokeh.plotting import figure, output_file, show\n",
    "x = [1, 2, 3, 4, 5]\n",
    "y = [6, 7, 2, 4, 5]\n",
    "output_file('scatter.html')\n",
    "p = figure(title='My Scatter Plot', x_axis_label='x', y_axis_label='y')\n",
    "p.scatter(x, y, size=10, color='red')\n",
    "show(p)\n"
   ]
  },
  {
   "cell_type": "code",
   "execution_count": null,
   "id": "343c38a6-e32d-4d9e-8f94-2b008a716e56",
   "metadata": {},
   "outputs": [],
   "source": [
    "'''----------------------------------------Question 2 Ans-----------------------------------'''"
   ]
  },
  {
   "cell_type": "code",
   "execution_count": null,
   "id": "5d28bd68-c43f-42c8-917e-90e6fdcd090b",
   "metadata": {},
   "outputs": [],
   "source": [
    "'''\n",
    "    Glyphs in Bokeh are visual shapes or markers used to represent data points in a plot. Bokeh provides a variety of\n",
    "glyph types, including lines, circles, rectangles, and more.\n",
    "    To add glyphs to a Bokeh plot, you can use the glyph methods of a figure object, such as line(), circle(), rect(),\n",
    "    etc. Here's an example that adds a line glyph and a circle glyph to a Bokeh plot:\n",
    "'''"
   ]
  },
  {
   "cell_type": "code",
   "execution_count": 5,
   "id": "78478d9a-c406-4b9d-b656-84f280c232b6",
   "metadata": {},
   "outputs": [],
   "source": [
    "from bokeh.plotting import figure, output_file, show\n",
    "x = [1, 2, 3, 4, 5]\n",
    "y = [6, 7, 2, 4, 5]\n",
    "output_file('glyphs.html')\n",
    "p = figure(title='My Glyphs Plot', x_axis_label='x', y_axis_label='y')\n",
    "p.line(x, y, legend_label='Line', line_width=2)\n",
    "p.circle(x, y, size=10, color='red', legend_label='Circle')\n",
    "show(p)\n"
   ]
  },
  {
   "cell_type": "code",
   "execution_count": null,
   "id": "c6d47f33-bb8a-4d1d-8c77-a9bef26d819b",
   "metadata": {},
   "outputs": [],
   "source": [
    "'''----------------------------------------Question 3 Ans-----------------------------------'''"
   ]
  },
  {
   "cell_type": "code",
   "execution_count": null,
   "id": "2b969a20-dff7-41f0-947a-f07473592421",
   "metadata": {},
   "outputs": [],
   "source": [
    "'''\n",
    "    Bokeh provides several ways to customize the appearance of a plot, including the axes, title, and legend.\n",
    "Here are some of the ways to customize a Bokeh plot:\n",
    "Change the title:\n",
    "    You can change the title of a plot using the title attribute of the figure object.\n",
    "Change the axis labels:\n",
    "    You can change the axis labels using the x_axis_label and y_axis_label attributes of the figure object.\n",
    "Change the axis range:\n",
    "    You can change the range of the x and y axes using the x_range and y_range attributes of the figure object.\n",
    "Change the legend:\n",
    "    You can change the legend label and location using the legend_label and legend_location attributes of the glyph methods.\n",
    "Change the plot background:\n",
    "    You can change the plot background using the background_fill_color attribute of the figure object.\n",
    "Change the plot size:\n",
    "    You can change the plot size using the plot_width and plot_height attributes of the figure object.\n",
    "\n",
    "This code creates a plot with a customized title, axis labels, axis ranges, size, and background color. It also adds a line and a circle glyph to the plot with customized line width, circle size, and color. The legend label and location are also customized. Finally, the legend background color is changed to white.\n",
    "\n",
    "'''"
   ]
  },
  {
   "cell_type": "code",
   "execution_count": null,
   "id": "fa53cb50-278c-46af-be39-0378a4a00677",
   "metadata": {},
   "outputs": [],
   "source": [
    "from bokeh.plotting import figure, output_file, show\n",
    "x = [1, 2, 3, 4, 5]\n",
    "y = [6, 7, 2, 4, 5]\n",
    "output_file('custom.html')\n",
    "p = figure(title='My Custom Plot', x_axis_label='x', y_axis_label='y', x_range=(0, 10), y_range=(0, 20),\n",
    "           plot_width=400, plot_height=300, background_fill_color='lightgrey')\n",
    "p.line(x, y, legend_label='Line 1', line_width=2, legend_location='top_left')\n",
    "\n",
    "p.circle(x, y, size=10, color='red', legend_label='Circle')\n",
    "p.legend.background_fill_color = 'white'\n",
    "show(p)"
   ]
  },
  {
   "cell_type": "code",
   "execution_count": null,
   "id": "0bd099c4-80de-4c6b-b3a8-f963a912b23e",
   "metadata": {},
   "outputs": [],
   "source": [
    "'''----------------------------------------Question 4 Ans-----------------------------------'''"
   ]
  },
  {
   "cell_type": "code",
   "execution_count": null,
   "id": "a9e38e21-e929-475f-a11b-ba423506c2a3",
   "metadata": {},
   "outputs": [],
   "source": [
    "'''\n",
    "\n",
    "    A Bokeh server is a Python server that allows you to create interactive plots that can be updated in real time.\n",
    "It provides a way to serve Bokeh plots and applications to web browsers, allowing for real-time interactions with\n",
    "the plot.\n",
    "    To use a Bokeh server to create interactive plots that can be updated in real time, you can define a Python\n",
    "function that creates a Bokeh plot and returns it. You can then use the curdoc() function to access the current\n",
    "document, and add the plot to the document using the add_root() function.\n",
    "\n",
    "    Here's an example of how to use a Bokeh server to create an interactive plot:\n",
    "\n",
    "    In this example, we first create a ColumnDataSource object that will hold the data for the plot. We then create\n",
    "a figure and add a line glyph to it using the data source.\n",
    "    Next, we define an update() function that generates new data and adds it to the data source using the stream()\n",
    "method. We then add the figure to the current document using curdoc().add_root().\n",
    "    Finally, we add a periodic callback using curdoc().add_periodic_callback() to call the update() function every\n",
    "second and update the plot in real time.When you run this code, it will start a Bokeh server that serves the plot\n",
    "to a web browser. The plot will update in real time, showing random data points that change every second.\n",
    "    You can view the plot by navigating to http://localhost:5006/ in a web browser. The plot will update automatically\n",
    "every second. This demonstrates how to use a Bokeh server to create interactive plots that can be updated in real time.\n",
    "\n",
    "'''"
   ]
  },
  {
   "cell_type": "code",
   "execution_count": null,
   "id": "0bff52ac-2a2c-40b3-92f9-dc3486c8f6e7",
   "metadata": {},
   "outputs": [],
   "source": [
    "from bokeh.plotting import figure, curdoc\n",
    "from bokeh.models import ColumnDataSource\n",
    "import numpy as np\n",
    "source = ColumnDataSource(data=dict(x=[], y=[]))\n",
    "p = figure(title='Real-time Plot', x_axis_label='x', y_axis_label='y')\n",
    "p.line(x='x', y='y', source=source)\n",
    "def update():\n",
    "    new_data = dict(x=np.random.randint(1, 10, size=10), y=np.random.randint(1, 10, size=10))\n",
    "    source.stream(new_data, rollover=20)\n",
    "curdoc().add_root(p)\n",
    "curdoc().add_periodic_callback(update, 1000)\n"
   ]
  },
  {
   "cell_type": "code",
   "execution_count": null,
   "id": "164d1fd5-4397-44a3-8b9c-768273b7871d",
   "metadata": {},
   "outputs": [],
   "source": [
    "'''----------------------------------------Question 5 Ans-----------------------------------'''"
   ]
  },
  {
   "cell_type": "code",
   "execution_count": null,
   "id": "64f7778b-c339-45af-af74-307c6cc3cd0e",
   "metadata": {},
   "outputs": [],
   "source": [
    "'''\n",
    "  \n",
    "  To embed a Bokeh plot into a web page or dashboard using Flask or Django, you can use the Bokeh server\n",
    "as a backend to generate the plot, and then embed the plot in the web page using a Bokeh Div object.\n",
    "\n",
    "    Here's an example of how to embed a Bokeh plot in a Flask web page:\n",
    "\n",
    "    In this example, we define a Flask app with a route for the web page. Inside the route function, we generate\n",
    "a Bokeh server URL using the server_document() function, passing in the URL of the Bokeh server app and the name\n",
    "of the Bokeh app.\n",
    "    We then render a template using the render_template() function, passing in the name of the template file and\n",
    "the Bokeh script.In the template file (index.html), we can embed the Bokeh plot using a Bokeh Div object:\n",
    "\n",
    "'''"
   ]
  },
  {
   "cell_type": "code",
   "execution_count": null,
   "id": "2b3ff539-1e58-4936-b1bc-4902c49dfe67",
   "metadata": {},
   "outputs": [],
   "source": [
    "from flask import Flask, render_template\n",
    "from bokeh.embed import server_document\n",
    "\n",
    "app = Flask(__name__)\n",
    "@app.route('/')\n",
    "def index():\n",
    "    bokeh_script = server_document('http://localhost:5006/myapp')\n",
    "    return render_template('index.html', bokeh_script=bokeh_script)\n",
    "\n",
    "if __name__ == '__main__':\n",
    "    app.run(debug=True)\n"
   ]
  },
  {
   "cell_type": "code",
   "execution_count": null,
   "id": "baa863bc-a487-4c55-bc70-837c03c2d950",
   "metadata": {},
   "outputs": [],
   "source": [
    "# HTML File\n",
    "'''\n",
    "<!doctype html>\n",
    "<html>\n",
    "<head>\n",
    "  <title>My Bokeh Plot</title>\n",
    "  {{ bokeh_script|safe }}\n",
    "</head>\n",
    "<body>\n",
    "  <h1>My Bokeh Plot</h1>\n",
    "  <div class=\"bk-root\">\n",
    "    {{ bokeh_div|safe }}\n",
    "  </div>\n",
    "</body>\n",
    "</html>\n",
    "'''"
   ]
  }
 ],
 "metadata": {
  "kernelspec": {
   "display_name": "Python 3 (ipykernel)",
   "language": "python",
   "name": "python3"
  },
  "language_info": {
   "codemirror_mode": {
    "name": "ipython",
    "version": 3
   },
   "file_extension": ".py",
   "mimetype": "text/x-python",
   "name": "python",
   "nbconvert_exporter": "python",
   "pygments_lexer": "ipython3",
   "version": "3.10.8"
  }
 },
 "nbformat": 4,
 "nbformat_minor": 5
}
