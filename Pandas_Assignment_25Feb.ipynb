{
 "cells": [
  {
   "cell_type": "code",
   "execution_count": null,
   "id": "5d2b46b0-117e-4dd9-b75f-4ada865da01c",
   "metadata": {},
   "outputs": [],
   "source": [
    "''' ------------------------------------------ Question 1 Ans ---------------------------------------- '''"
   ]
  },
  {
   "cell_type": "code",
   "execution_count": 6,
   "id": "9dceba06-f940-4e76-ae42-7e7579e366b9",
   "metadata": {},
   "outputs": [
    {
     "name": "stdout",
     "output_type": "stream",
     "text": [
      "course_name    Machine Learning\n",
      "duration                      3\n",
      "Name: 1, dtype: object\n"
     ]
    }
   ],
   "source": [
    "import pandas as pd\n",
    "course_name = ['Data Science', 'Machine Learning', 'Big Data', 'Data Engineer']\n",
    "duration = [2,3,6,4]\n",
    "df = pd.DataFrame(data = {'course_name' : course_name, 'duration' : duration})\n",
    "print(df.iloc[1])\n"
   ]
  },
  {
   "cell_type": "code",
   "execution_count": null,
   "id": "721d1900-a5ab-4f28-ba31-29fcf4d3c4f9",
   "metadata": {},
   "outputs": [],
   "source": [
    "''' ------------------------------------------ Question 2 Ans ---------------------------------------- '''"
   ]
  },
  {
   "cell_type": "code",
   "execution_count": null,
   "id": "701cf97d-2960-450b-8434-215b9a8d8c52",
   "metadata": {},
   "outputs": [],
   "source": [
    "'''\n",
    "    loc is used for label-based indexing, which means that it selects rows and columns based on their index labels.\n",
    "The syntax for loc is df.loc[row_labels, column_labels], where row_labels and column_labels are the labels of the\n",
    "rows and columns that you want to select.\n",
    "\n",
    "    iloc, on the other hand, is used for integer-based indexing, which means that it selects rows and columns based on\n",
    "their integer positions. The syntax for iloc is df.iloc[row_positions, column_positions], where row_positions and\n",
    "column_positions are the integer positions of the rows and columns that you want to select.\n",
    "'''"
   ]
  },
  {
   "cell_type": "code",
   "execution_count": null,
   "id": "d64ba7d8-1271-40f5-9aff-c08904d59e68",
   "metadata": {},
   "outputs": [],
   "source": [
    "''' ------------------------------------------ Question 3 Ans ---------------------------------------- '''"
   ]
  },
  {
   "cell_type": "code",
   "execution_count": 9,
   "id": "7a00f313-cd03-4ef8-84c9-792bb64d3789",
   "metadata": {},
   "outputs": [
    {
     "name": "stdout",
     "output_type": "stream",
     "text": [
      "course_name    Machine Learning\n",
      "duration                      3\n",
      "Name: 1, dtype: object\n",
      "course_name    Big Data\n",
      "duration              6\n",
      "Name: 2, dtype: object\n",
      "course_name    Machine Learning\n",
      "duration                      3\n",
      "Name: 1, dtype: object\n"
     ]
    }
   ],
   "source": [
    "course_name = ['Data Science', 'Machine Learning', 'Big Data', 'Data Engineer']\n",
    "duration = [2, 3, 6, 4]\n",
    "\n",
    "df = pd.DataFrame(data={'course_name': course_name, 'duration': duration})\n",
    "print(df.iloc[1])\n",
    "reindex = [3, 0, 1, 2]\n",
    "new_df = df.reindex(reindex)\n",
    "\n",
    "print(new_df.loc[2])\n",
    "print(new_df.iloc[2])\n"
   ]
  },
  {
   "cell_type": "code",
   "execution_count": null,
   "id": "2f495d02-475e-4809-8a60-a56ba3347dca",
   "metadata": {},
   "outputs": [],
   "source": [
    "''' ------------------------------------------ Question 4 Ans ---------------------------------------- '''"
   ]
  },
  {
   "cell_type": "code",
   "execution_count": 16,
   "id": "1ee5e3ec-4a04-4141-8f3b-fa0557d8fe1e",
   "metadata": {},
   "outputs": [],
   "source": [
    "import pandas as pd\n",
    "import numpy as np\n",
    "columns = ['column_1', 'column_2', 'column_3', 'column_4', 'column_5', 'column_6']\n",
    "indices = [1,2,3,4,5,6]\n",
    "df1 = pd.DataFrame(np.random.rand(6,6), columns = columns, index = indices)\n"
   ]
  },
  {
   "cell_type": "code",
   "execution_count": 17,
   "id": "b87ac5c6-2e72-4f80-a3aa-6b66a791645a",
   "metadata": {},
   "outputs": [
    {
     "data": {
      "text/plain": [
       "column_1    0.505854\n",
       "column_2    0.494384\n",
       "column_3    0.542010\n",
       "column_4    0.433358\n",
       "column_5    0.512765\n",
       "column_6    0.534148\n",
       "dtype: float64"
      ]
     },
     "execution_count": 17,
     "metadata": {},
     "output_type": "execute_result"
    }
   ],
   "source": [
    "df1.mean()"
   ]
  },
  {
   "cell_type": "code",
   "execution_count": 18,
   "id": "d2e7cb68-8c1a-492c-ac7e-2a64266d20ef",
   "metadata": {},
   "outputs": [
    {
     "data": {
      "text/plain": [
       "0.39196149957718784"
      ]
     },
     "execution_count": 18,
     "metadata": {},
     "output_type": "execute_result"
    }
   ],
   "source": [
    "df1['column_2'].std()"
   ]
  },
  {
   "cell_type": "code",
   "execution_count": null,
   "id": "c7044ee1-8b5e-4d69-b36c-3455dae89ac6",
   "metadata": {},
   "outputs": [],
   "source": [
    "''' ------------------------------------------ Question 5 Ans ---------------------------------------- '''"
   ]
  },
  {
   "cell_type": "code",
   "execution_count": 19,
   "id": "01dcc077-c0e0-49d1-bac5-09f352bb5534",
   "metadata": {},
   "outputs": [
    {
     "data": {
      "text/plain": [
       "0.494384451658074"
      ]
     },
     "execution_count": 19,
     "metadata": {},
     "output_type": "execute_result"
    }
   ],
   "source": [
    "df1['column_2'] = pd.to_numeric(df1['column_2'], errors='coerce')\n",
    "df1['column_2'].mean()"
   ]
  },
  {
   "cell_type": "code",
   "execution_count": null,
   "id": "9ddb8624-8ec7-4c04-87ba-6173d22484d3",
   "metadata": {},
   "outputs": [],
   "source": [
    "''' ------------------------------------------ Question 6 Ans ---------------------------------------- '''"
   ]
  },
  {
   "cell_type": "code",
   "execution_count": null,
   "id": "c2f3bf78-7b2d-47bf-ac42-9400d936b51f",
   "metadata": {},
   "outputs": [],
   "source": [
    "''' \n",
    "\n",
    "    In pandas, a window function is a function that performs a calculation across a specified range of rows in a DataFrame.\n",
    "Window functions can be used to perform rolling or expanding calculations, such as calculating moving averages, cumulative\n",
    "sums, or rank-based statistics.\n",
    "\n",
    "There are several types of window functions in pandas:\n",
    "\n",
    "Rolling window functions:\n",
    "    These functions perform a calculation across a fixed-size moving window of rows. The window size is specified using the\n",
    "rolling() method, which creates a rolling window object that can be used with various aggregation functions such as mean(),\n",
    "sum(), std(), min(), max(), etc.\n",
    "\n",
    "Expanding window functions:\n",
    "    These functions perform a calculation across a window that starts from the beginning of the DataFrame and expands to\n",
    "include more rows as it moves down. The expanding window object is created using the expanding() method, which can be used\n",
    "with various aggregation functions.\n",
    "\n",
    "Exponential weighted window functions:\n",
    "    These functions perform a calculation across a window of rows, where the weights assigned to each row decrease\n",
    "exponentially as the distance from the current row increases. The weights are specified using the span, halflife, or com\n",
    "parameters of the ewm() method, which can be used with various aggregation functions.\n",
    "\n",
    "Rolling window custom functions:\n",
    "    These are custom functions that can be defined by the user and applied to a rolling window using the rolling().apply()\n",
    "method.\n",
    "\n",
    "Grouped window functions:\n",
    "    These functions perform a calculation across a window of rows, where the window is defined within each group of a\n",
    "DataFrame. The grouped window object is created using the groupby() method followed by the rolling() or expanding() method,\n",
    "which can be used with various aggregation functions.\n",
    "\n",
    "Time-based window functions:\n",
    "    These functions perform a calculation across a window of rows that are defined by a time-based index, such as hourly or\n",
    "daily data. The time-based window object is created using the resample() method, which can be used with various aggregation functions.\n",
    "\n",
    "\n",
    "'''"
   ]
  },
  {
   "cell_type": "code",
   "execution_count": null,
   "id": "2cee902d-3fce-4782-ba62-f1542e7df22b",
   "metadata": {},
   "outputs": [],
   "source": [
    "''' ------------------------------------------ Question 7 Ans ---------------------------------------- '''"
   ]
  },
  {
   "cell_type": "code",
   "execution_count": 13,
   "id": "0e7fae14-be30-4c37-8e55-10fa76fb12e0",
   "metadata": {},
   "outputs": [
    {
     "name": "stdout",
     "output_type": "stream",
     "text": [
      "Current month and year: March 2023\n"
     ]
    }
   ],
   "source": [
    "from datetime import datetime\n",
    "\n",
    "now = datetime.now()\n",
    "current_month = now.strftime(\"%B\")\n",
    "current_year = now.strftime(\"%Y\")\n",
    "\n",
    "print(\"Current month and year: \" + current_month + \" \" + current_year)\n"
   ]
  },
  {
   "cell_type": "code",
   "execution_count": null,
   "id": "62f632ab-df52-4de1-b2ed-de66fa837bd9",
   "metadata": {},
   "outputs": [],
   "source": [
    "''' ------------------------------------------ Question 8 Ans ---------------------------------------- '''"
   ]
  },
  {
   "cell_type": "code",
   "execution_count": 15,
   "id": "13fe0420-d744-4ea2-91b9-ed8366e21992",
   "metadata": {},
   "outputs": [
    {
     "name": "stdin",
     "output_type": "stream",
     "text": [
      "Enter the first date (YYYY-MM-DD):  2016-08-10\n",
      "Enter the second date (YYYY-MM-DD):  2023-02-06\n"
     ]
    },
    {
     "name": "stdout",
     "output_type": "stream",
     "text": [
      "The difference between 2016-08-10 and 2023-02-06 is:\n",
      "2371 days, 0 hours, and 0 minutes.\n"
     ]
    }
   ],
   "source": [
    "date1_str = input(\"Enter the first date (YYYY-MM-DD): \")\n",
    "date2_str = input(\"Enter the second date (YYYY-MM-DD): \")\n",
    "\n",
    "date1 = pd.to_datetime(date1_str)\n",
    "date2 = pd.to_datetime(date2_str)\n",
    "\n",
    "delta = date2 - date1\n",
    "\n",
    "days = delta.days\n",
    "hours = delta.seconds // 3600\n",
    "minutes = (delta.seconds % 3600) // 60\n",
    "\n",
    "print(\"The difference between\", date1_str, \"and\", date2_str, \"is:\")\n",
    "print(days, \"days,\", hours, \"hours, and\", minutes, \"minutes.\")\n"
   ]
  },
  {
   "cell_type": "code",
   "execution_count": null,
   "id": "7e96c65a-76cb-4f54-9fe0-559b20ea3e74",
   "metadata": {},
   "outputs": [],
   "source": [
    "''' ------------------------------------------ Question 9 Ans ---------------------------------------- '''"
   ]
  },
  {
   "cell_type": "code",
   "execution_count": null,
   "id": "9d85e7f3-ad1f-4c5c-9f3f-d96c0d3ad9bb",
   "metadata": {},
   "outputs": [],
   "source": [
    "import pandas as pd\n",
    "file_path = input(\"Enter the file path: \")\n",
    "col_name = input(\"Enter the column name: \")\n",
    "categories = input(\"Enter the category order (comma-separated): \").split(\",\")\n",
    "\n",
    "data = pd.read_csv(file_path)\n",
    "\n",
    "data[col_name] = pd.Categorical(data[col_name], categories=categories, ordered=True)\n",
    "\n",
    "sorted_data = data.sort_values(by=col_name)\n",
    "\n",
    "print(sorted_data)\n"
   ]
  },
  {
   "cell_type": "code",
   "execution_count": null,
   "id": "a033d186-007f-40aa-bd3a-61c1cf25951a",
   "metadata": {},
   "outputs": [],
   "source": [
    "''' ------------------------------------------ Question 10 Ans ---------------------------------------- '''"
   ]
  },
  {
   "cell_type": "code",
   "execution_count": null,
   "id": "5e54bb93-9b0f-4294-8ee0-0e9efff4ee46",
   "metadata": {},
   "outputs": [],
   "source": [
    "import pandas as pd\n",
    "import matplotlib.pyplot as plt\n",
    "\n",
    "file_path = input(\"Enter the file path: \")\n",
    "\n",
    "df = pd.read_csv(file_path)\n",
    "\n",
    "df = df.groupby(['Product Category', 'Date']).sum()\n",
    "\n",
    "df = df.reset_index().pivot(index='Date', columns='Product Category', values='Sales')\n",
    "\n",
    "plt.style.use('ggplot')\n",
    "df.plot(kind='bar', stacked=True)\n",
    "\n",
    "plt.show()"
   ]
  },
  {
   "cell_type": "code",
   "execution_count": null,
   "id": "1851ca0e-cdb6-4448-8b19-49842b379909",
   "metadata": {},
   "outputs": [],
   "source": [
    "''' ------------------------------------------ Question 11 Ans ---------------------------------------- '''"
   ]
  },
  {
   "cell_type": "code",
   "execution_count": null,
   "id": "e3e7753e-2c1b-4da5-be54-8ae4c03a6b68",
   "metadata": {},
   "outputs": [],
   "source": [
    "df = pd.read_csv(\"student_scores.csv\")\n",
    "mean = df[\"Score\"].mean()\n",
    "median = df[\"Score\"].median()\n",
    "mode = df[\"Score\"].mode()[0]\n",
    "results = pd.DataFrame({\n",
    "    \"Metric\": [\"Mean\", \"Median\", \"Mode\"],\n",
    "    \"Value\": [mean, median, mode]\n",
    "})\n",
    "print(results)\n"
   ]
  }
 ],
 "metadata": {
  "kernelspec": {
   "display_name": "Python 3 (ipykernel)",
   "language": "python",
   "name": "python3"
  },
  "language_info": {
   "codemirror_mode": {
    "name": "ipython",
    "version": 3
   },
   "file_extension": ".py",
   "mimetype": "text/x-python",
   "name": "python",
   "nbconvert_exporter": "python",
   "pygments_lexer": "ipython3",
   "version": "3.10.8"
  }
 },
 "nbformat": 4,
 "nbformat_minor": 5
}
